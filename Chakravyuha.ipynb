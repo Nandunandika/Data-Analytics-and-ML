{
  "nbformat": 4,
  "nbformat_minor": 0,
  "metadata": {
    "colab": {
      "name": "Chakravyuha.ipynb",
      "provenance": [],
      "private_outputs": true,
      "collapsed_sections": [],
      "authorship_tag": "ABX9TyPs7K2e7HzOZNFgJu79+21G",
      "include_colab_link": true
    },
    "kernelspec": {
      "name": "python3",
      "display_name": "Python 3"
    }
  },
  "cells": [
    {
      "cell_type": "markdown",
      "metadata": {
        "id": "view-in-github",
        "colab_type": "text"
      },
      "source": [
        "<a href=\"https://colab.research.google.com/github/Nandunandika/Data-Analytics-and-ML/blob/master/Chakravyuha.ipynb\" target=\"_parent\"><img src=\"https://colab.research.google.com/assets/colab-badge.svg\" alt=\"Open In Colab\"/></a>"
      ]
    },
    {
      "cell_type": "code",
      "metadata": {
        "id": "8MM-xGpB2hMH",
        "colab_type": "code",
        "colab": {}
      },
      "source": [
        "num=int(input())\n",
        "c=[[0 for x in range(num)] for y in range(num)]\n",
        "p=list()\n",
        "p.append((0,0))\n",
        "\n",
        "start=0\n",
        "end=num-1\n",
        "n=1\n",
        "\n",
        "for i in range(int((num+1)/2)):\n",
        "    for j in range(start,end+1):\n",
        "        c[start][j]=n\n",
        "        if(n%11==0):\n",
        "            p.append((start,j))    \n",
        "        n=n+1\n",
        "    for j in range(start+1,end+1):\n",
        "        c[j][end]=n\n",
        "        if(n%11==0):\n",
        "            p.append((j,end))    \n",
        "        n=n+1  \n",
        "    for j in range(end-1,start-1,-1):\n",
        "        c[end][j]=n\n",
        "        if(n%11==0):\n",
        "            p.append((end,j))    \n",
        "        n=n+1\n",
        "    for j in range(end-1,start,-1):\n",
        "        c[j][start]=n\n",
        "        if(n%11==0):\n",
        "            p.append((j,start))    \n",
        "        n=n+1\n",
        "    start=start+1\n",
        "    end=end-1\n",
        "    \n",
        "    \n",
        "for i in range(num):\n",
        "    for j in range(num):\n",
        "        print(c[i][j],end=\"\\t\")\n",
        "    print()\n",
        "print(\"Total Power point:\",len(p))\n",
        "print(*p,sep=\"\\n\")"
      ],
      "execution_count": 0,
      "outputs": []
    }
  ]
}