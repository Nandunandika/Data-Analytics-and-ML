{
  "nbformat": 4,
  "nbformat_minor": 0,
  "metadata": {
    "colab": {
      "name": "wine using pca.ipynb",
      "provenance": [],
      "private_outputs": true,
      "authorship_tag": "ABX9TyPkufT5OMm1INq9QcwnVd3D",
      "include_colab_link": true
    },
    "kernelspec": {
      "name": "python3",
      "display_name": "Python 3"
    }
  },
  "cells": [
    {
      "cell_type": "markdown",
      "metadata": {
        "id": "view-in-github",
        "colab_type": "text"
      },
      "source": [
        "<a href=\"https://colab.research.google.com/github/Nandunandika/Data-Analytics-and-ML/blob/master/wine_using_pca.ipynb\" target=\"_parent\"><img src=\"https://colab.research.google.com/assets/colab-badge.svg\" alt=\"Open In Colab\"/></a>"
      ]
    },
    {
      "cell_type": "code",
      "metadata": {
        "id": "SAFExdXWr6vf",
        "colab_type": "code",
        "colab": {}
      },
      "source": [
        "import numpy as np"
      ],
      "execution_count": 0,
      "outputs": []
    },
    {
      "cell_type": "code",
      "metadata": {
        "id": "y_vk9kausAJJ",
        "colab_type": "code",
        "colab": {}
      },
      "source": [
        "from sklearn.datasets import load_wine\n",
        "X, y = load_wine(return_X_y=True)\n",
        "np.shape(X)"
      ],
      "execution_count": 0,
      "outputs": []
    },
    {
      "cell_type": "code",
      "metadata": {
        "id": "kIuFvX1xsKov",
        "colab_type": "code",
        "colab": {}
      },
      "source": [
        "from sklearn.model_selection import train_test_split\n",
        "x_train, x_test, y_train, y_test = train_test_split(X,y, test_size=0.25, random_state=42)\n",
        "\n"
      ],
      "execution_count": 0,
      "outputs": []
    },
    {
      "cell_type": "code",
      "metadata": {
        "id": "rVeuPS8osPK4",
        "colab_type": "code",
        "colab": {}
      },
      "source": [
        "from sklearn.decomposition import PCA\n",
        "pca = PCA(n_components=13, svd_solver='auto', tol=0.05, iterated_power='auto', random_state=42)\n",
        "print(pca)"
      ],
      "execution_count": 0,
      "outputs": []
    },
    {
      "cell_type": "code",
      "metadata": {
        "id": "h39coKrNsYy_",
        "colab_type": "code",
        "colab": {}
      },
      "source": [
        "##print(\"shape of x_train is:\",np.shape(x_train_pca))\n",
        "print(\"shape of y_train is:\",np.shape(y_train))\n",
        "##print(\"shape of x_test is :\",np.shape(x_test_pca))\n",
        "print(\"shape of y_test is :\",np.shape(y_test))"
      ],
      "execution_count": 0,
      "outputs": []
    },
    {
      "cell_type": "code",
      "metadata": {
        "id": "pcCslUAFsewQ",
        "colab_type": "code",
        "colab": {}
      },
      "source": [
        "x_train_pca = pca.fit_transform(x_train)\n",
        "x_test_pca = pca.fit_transform(x_test)\n",
        "print(x_test_pca)"
      ],
      "execution_count": 0,
      "outputs": []
    },
    {
      "cell_type": "code",
      "metadata": {
        "id": "19BUoOuQsqcj",
        "colab_type": "code",
        "colab": {}
      },
      "source": [
        "from sklearn.linear_model import LinearRegression \n",
        "lin_reg_cls = LinearRegression (fit_intercept=True,normalize=True)\n",
        "print(lin_reg_cls)\n",
        "lin_reg_cls.fit(x_train_pca,y_train)"
      ],
      "execution_count": 0,
      "outputs": []
    },
    {
      "cell_type": "code",
      "metadata": {
        "id": "XDDOGR8GsvIL",
        "colab_type": "code",
        "colab": {}
      },
      "source": [
        "y_pre=lin_reg_cls.predict(x_test_pca)\n",
        "print(\"prediction values are:\",y_pre)\n",
        "y_predict=lin_reg_cls.predict(x_test_pca)\n",
        "np.column_stack((y_predict,y_test))\n",
        "print(lin_reg_cls.score(x_test_pca,y_test))"
      ],
      "execution_count": 0,
      "outputs": []
    },
    {
      "cell_type": "code",
      "metadata": {
        "id": "Z2RMsDMws7OL",
        "colab_type": "code",
        "colab": {}
      },
      "source": [
        "from sklearn import tree\n",
        "\n",
        "clf = tree.DecisionTreeClassifier(criterion='entropy',splitter='best',max_depth=5,random_state=42,min_samples_split=4, max_features=9)\n",
        "clf.fit(x_train_pca,y_train)"
      ],
      "execution_count": 0,
      "outputs": []
    },
    {
      "cell_type": "code",
      "metadata": {
        "id": "sheWBuPSs95j",
        "colab_type": "code",
        "colab": {}
      },
      "source": [
        "print(np.column_stack((y_pre,y_test)))"
      ],
      "execution_count": 0,
      "outputs": []
    },
    {
      "cell_type": "code",
      "metadata": {
        "id": "UqR93jFEwj7v",
        "colab_type": "code",
        "colab": {}
      },
      "source": [
        "score = clf.score(x_test,y_test)\n",
        "print(score)"
      ],
      "execution_count": 0,
      "outputs": []
    },
    {
      "cell_type": "code",
      "metadata": {
        "id": "yo-EQi_ttUgG",
        "colab_type": "code",
        "colab": {}
      },
      "source": [
        "\n",
        "\n",
        "\n",
        "\n",
        "print(\"Feature importances = \", clf.feature_importances_)\n",
        "print(np.shape(clf.feature_importances_))\n",
        "\n",
        "print(\"Max Features = \",clf.max_features_)\n",
        "print(np.shape(clf.max_features_))"
      ],
      "execution_count": 0,
      "outputs": []
    },
    {
      "cell_type": "code",
      "metadata": {
        "id": "SelpvXZWwmh5",
        "colab_type": "code",
        "colab": {}
      },
      "source": [
        "print(\"classes = \", clf.classes_)"
      ],
      "execution_count": 0,
      "outputs": []
    },
    {
      "cell_type": "code",
      "metadata": {
        "id": "TXUnmc6XtXIS",
        "colab_type": "code",
        "colab": {}
      },
      "source": [
        "print(\"Number of features during fit = \", clf.n_features_)\n",
        "print(np.shape(clf.n_features_))"
      ],
      "execution_count": 0,
      "outputs": []
    },
    {
      "cell_type": "code",
      "metadata": {
        "id": "3O1FBEnUtZuX",
        "colab_type": "code",
        "colab": {}
      },
      "source": [
        "print(\"Total outputs during fit = \",clf.n_outputs_)\n",
        "print(np.shape(clf.n_outputs_))"
      ],
      "execution_count": 0,
      "outputs": []
    },
    {
      "cell_type": "code",
      "metadata": {
        "id": "aHD_WrAmtcWX",
        "colab_type": "code",
        "colab": {}
      },
      "source": [
        "import graphviz \n",
        "dot_data = tree.export_graphviz(clf, out_file=None, max_depth=5)\n",
        "graph = graphviz.Source(dot_data)\n",
        "graph"
      ],
      "execution_count": 0,
      "outputs": []
    }
  ]
}