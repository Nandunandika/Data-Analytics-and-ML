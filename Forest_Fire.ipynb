{
 "cells": [
  {
   "cell_type": "code",
   "execution_count": null,
   "metadata": {},
   "outputs": [],
   "source": [
    "#Forest Caught fire\n",
    "def burntime(forestlayout,cr,cc,r,c,forestfiretime,time):\n",
    "    if((cr>=r)or(cr<0)or(cc>=c)or(cc<0)or(forestlayout[cr][cc]=='W')):\n",
    "        return\n",
    "    if((forestfiretime[cr][cc]!=-1) and (time>=forestfiretime[cr][cc])):\n",
    "        return\n",
    "    \n",
    "    forestfiretime[cr][cc]=time\n",
    "    \n",
    "    burntime(forestlayout,cr+1,cc+1,r,c,forestfiretime,time+1)\n",
    "    burntime(forestlayout,cr+1,cc,r,c,forestfiretime,time+1)\n",
    "    burntime(forestlayout,cr+1,cc-1,r,c,forestfiretime,time+1)\n",
    "    burntime(forestlayout,cr,cc+1,r,c,forestfiretime,time+1)\n",
    "    burntime(forestlayout,cr,cc-1,r,c,forestfiretime,time+1)\n",
    "    burntime(forestlayout,cr-1,cc+1,r,c,forestfiretime,time+1)\n",
    "    burntime(forestlayout,cr-1,cc,r,c,forestfiretime,time+1)\n",
    "    burntime(forestlayout,cr-1,cc-1,r,c,forestfiretime,time+1)\n",
    "    \n",
    "if __name__=='__main__':\n",
    "    r,c=input().split()\n",
    "    r=int(r)\n",
    "    c=int(c)\n",
    "    fire_r,fire_c=input().split()\n",
    "    fire_r=int(fire_r)\n",
    "    fire_c=int(fire_c)\n",
    "    \n",
    "    forestlayout=[]\n",
    "    for i in range(0,r):\n",
    "        forestlayout.append(list(input().rstrip().split()))\n",
    "        \n",
    "    forestfiretime=[0]*r\n",
    "    for i in range(r):\n",
    "        forestfiretime[i]=[0]*c\n",
    "        for j in range(c):\n",
    "            forestfiretime[i][j]=-1\n",
    "    burntime(forestlayout,fire_r-1,fire_c-1,r,c,forestfiretime,1)\n",
    "    \n",
    "    max = 0\n",
    "    for i in range(0,r):\n",
    "        for j in range(0,c):\n",
    "            if(forestfiretime[i][j]>max):\n",
    "                max = forestfiretime[i][j]\n",
    "    print(max)\n",
    "            "
   ]
  }
 ],
 "metadata": {
  "kernelspec": {
   "display_name": "Python 3",
   "language": "python",
   "name": "python3"
  },
  "language_info": {
   "codemirror_mode": {
    "name": "ipython",
    "version": 3
   },
   "file_extension": ".py",
   "mimetype": "text/x-python",
   "name": "python",
   "nbconvert_exporter": "python",
   "pygments_lexer": "ipython3",
   "version": "3.7.6"
  }
 },
 "nbformat": 4,
 "nbformat_minor": 4
}
